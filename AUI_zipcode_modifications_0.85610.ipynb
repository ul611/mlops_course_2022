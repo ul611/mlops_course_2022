{
 "cells": [
  {
   "cell_type": "markdown",
   "id": "a2f1b8a5",
   "metadata": {},
   "source": [
    "#### Описание задания\n",
    "\n",
    "Today you need to predict the house prices in the USA. You can use any model from the course, except Random Forests, Bagging Aggregation, Gradient boosting and any DL models. Use of raw features is not the best idea, but you may create your own ones. Be creative and remember what you were taught!"
   ]
  },
  {
   "cell_type": "markdown",
   "id": "64b41abb",
   "metadata": {},
   "source": [
    "#### Оценивание\n",
    "\n",
    "R2 score is used as metric. Public set is only 30% of overall test\n",
    "\n",
    "The submission file should contain a header and have the following format:\n",
    "\n",
    "Id,price\n",
    "\n",
    "1,1000.0\n",
    "\n",
    "2,9000.0\n"
   ]
  },
  {
   "cell_type": "markdown",
   "id": "4332531d",
   "metadata": {},
   "source": [
    "В соревновании по анализу данных вам предлагается по имеющимся данным решить некоторую задачу, оптимизируя указанную метрику, и отправить ответы для заданного тестового множества. Максимальное количество посылок в сутки ограничено (разрешается сделать 5 посылкок в день), ближе к концу соревнования вам будем необходимо выбрать 1 посылку, которую вы считаете лучшей\n",
    "\n",
    "В лидербордах каждого из соревнований присутствуют несколько базовых решений (бейзлайнов), каждое из которых соответствует определённой оценке. Например, для получения оценки не ниже 8 баллов необходимо, чтобы ваше решение на приватном лидерборде оказалось лучше соответствующего бейзлайна. Далее для студента, преодолевшего бейзлайн на N1 баллов, но не преодолевшего бейзлайн на N2 балла, итоговая оценка за соревнование рассчитывается по равномерной сетке среди всех таких студентов в зависимости от места в приватном лидерборде среди них; если быть точными, то по следующей формуле:\n",
    "\n",
    "N2 - (N2 - N_1) * i / M,\n",
    "\n",
    "где M — количество студентов (из всех студентов, изучающих курс), преодолевших бейзлайн на N1 баллов, но не преодолевших бейзлайн на N2 балла (если студент преодолел максимальный бейзлайн, то N_2 = 10) ;\n",
    "\n",
    "i — место (начиная с 1) студента в приватном лидерборде среди всех таких студентов.\n",
    "\n",
    "В течение 3 суток после окончания соревнования в соответствующую форму (вышлем позже) необходимо прислать код, воспроизводящий ответы для посылки, фигурирующей в приватном лидерборде. При оформлении кода предполагайте, что данные лежат рядом с ним в папке data, а в результате выполнения кода ответы должны быть записаны в файл solution-N-Username.csv, где N — номер соревнования, Username — ваша фамилия. У нас должна быть возможность запустить код и получить те же ответы, что и в вашей посылке, — в частности, это означает, что:\n",
    "\n",
    "    Если вы отправляете файл *.py, мы будем запускать его при помощи команды python *.py в вышеуказанном предположении о местонахождении данных.\n",
    "\n",
    "    Если вы отправляете ноутбук *.ipynb, мы последовательно запустим все ячейки ноутбука и будем ожидать в результате его работы формирование файла с ответами.\n"
   ]
  },
  {
   "cell_type": "markdown",
   "id": "ac4fa0eb",
   "metadata": {},
   "source": [
    "#### Информация о данных\n",
    "\n",
    "\n",
    "Data fields\n",
    "\n",
    "    string date – date house was sold\n",
    "    float32 bedrooms – number of bedrooms\n",
    "    float32 bathrooms – number of bathrooms/bedrooms\n",
    "    int32 sqft_living – square footage of the home\n",
    "    int32 sqft_lot – square footage of the lot\n",
    "    float32 floors – total floors (levels) in house\n",
    "    bool waterfront – house which has a view to a waterfront\n",
    "    int32 view - Has been viewed\n",
    "    int32 condition – how good the condition is (overall)\n",
    "    int32 grade – overall grade given to the housing unit\n",
    "    int32 sqft_above – square footage of house apart from basement\n",
    "    int32 sqft_basement – square footage of the basement\n",
    "    int32 yr_built – built Year\n",
    "    int32 yt_renovated – year when house was renovated\n",
    "    int32 zipcode\n",
    "    float32 lat – latitude coordinate\n",
    "    float32 long – longitude coordinate\n"
   ]
  },
  {
   "cell_type": "code",
   "execution_count": null,
   "id": "27cce16f",
   "metadata": {
    "ExecuteTime": {
     "end_time": "2022-05-13T06:54:10.016471Z",
     "start_time": "2022-05-13T06:54:10.014021Z"
    }
   },
   "outputs": [],
   "source": [
    "N = 4\n",
    "folder = './data/'"
   ]
  },
  {
   "cell_type": "code",
   "execution_count": null,
   "id": "433585a6",
   "metadata": {
    "ExecuteTime": {
     "end_time": "2022-05-13T06:54:10.987488Z",
     "start_time": "2022-05-13T06:54:10.018661Z"
    }
   },
   "outputs": [],
   "source": [
    "import numpy as np\n",
    "import pandas as pd\n",
    "\n",
    "from sklearn.linear_model import LinearRegression, Ridge, Lasso\n",
    "from sklearn.model_selection import train_test_split, GridSearchCV\n",
    "from sklearn.metrics import mean_squared_error, r2_score\n",
    "from sklearn.preprocessing import MinMaxScaler, StandardScaler\n",
    "from sklearn.neighbors import KNeighborsRegressor\n",
    "from sklearn.ensemble import StackingRegressor\n",
    "\n",
    "import matplotlib.pyplot as plt\n",
    "import seaborn as sns"
   ]
  },
  {
   "cell_type": "markdown",
   "id": "9647b5e8",
   "metadata": {},
   "source": [
    "#### Импортируем исходные данные"
   ]
  },
  {
   "cell_type": "code",
   "execution_count": null,
   "id": "34941bf2",
   "metadata": {
    "ExecuteTime": {
     "end_time": "2022-05-13T06:54:11.026247Z",
     "start_time": "2022-05-13T06:54:10.988649Z"
    }
   },
   "outputs": [],
   "source": [
    "X_train = pd.read_csv(f'{folder}x_train.csv')\n",
    "X_test = pd.read_csv(f'{folder}x_test.csv')\n",
    "y_train = pd.read_csv(f'{folder}y_train.csv')"
   ]
  },
  {
   "cell_type": "markdown",
   "id": "49152bce",
   "metadata": {},
   "source": [
    "#### Исследуем данные: Целевая переменная"
   ]
  },
  {
   "cell_type": "code",
   "execution_count": null,
   "id": "623dbeea",
   "metadata": {
    "ExecuteTime": {
     "end_time": "2022-05-13T06:54:11.528881Z",
     "start_time": "2022-05-13T06:54:11.027426Z"
    },
    "scrolled": true
   },
   "outputs": [],
   "source": [
    "sns.histplot(y_train);"
   ]
  },
  {
   "cell_type": "markdown",
   "id": "65f07d95",
   "metadata": {},
   "source": [
    "Преобразуем в логарифм. Далее будем предсказывать логарифм цены, и затем потенцируем предсказание"
   ]
  },
  {
   "cell_type": "code",
   "execution_count": null,
   "id": "f6417ca4",
   "metadata": {
    "ExecuteTime": {
     "end_time": "2022-05-13T06:54:11.533434Z",
     "start_time": "2022-05-13T06:54:11.530962Z"
    }
   },
   "outputs": [],
   "source": [
    "y_train_log = np.log(y_train)"
   ]
  },
  {
   "cell_type": "code",
   "execution_count": null,
   "id": "f5730a1a",
   "metadata": {
    "ExecuteTime": {
     "end_time": "2022-05-13T06:54:11.749256Z",
     "start_time": "2022-05-13T06:54:11.534433Z"
    },
    "scrolled": true
   },
   "outputs": [],
   "source": [
    "sns.histplot(y_train_log);"
   ]
  },
  {
   "cell_type": "markdown",
   "id": "041de73e",
   "metadata": {},
   "source": [
    "Получили распределение, более похожее на нормальное"
   ]
  },
  {
   "cell_type": "markdown",
   "id": "8e53a147",
   "metadata": {},
   "source": [
    "#### Соберем все данные в один датасет"
   ]
  },
  {
   "cell_type": "code",
   "execution_count": null,
   "id": "bd704307",
   "metadata": {
    "ExecuteTime": {
     "end_time": "2022-05-13T06:54:11.762817Z",
     "start_time": "2022-05-13T06:54:11.750166Z"
    },
    "scrolled": true
   },
   "outputs": [],
   "source": [
    "# убираем явный выброс по критерию bedrooms == 33, при этом площадь всего 1620 sqft\n",
    "\n",
    "X_train.query('bedrooms > 30')"
   ]
  },
  {
   "cell_type": "code",
   "execution_count": null,
   "id": "925bf9b7",
   "metadata": {
    "ExecuteTime": {
     "end_time": "2022-05-13T06:54:11.773497Z",
     "start_time": "2022-05-13T06:54:11.764274Z"
    }
   },
   "outputs": [],
   "source": [
    "X_train['dataset'] = 'train'\n",
    "X_test['dataset'] = 'test'\n",
    "\n",
    "data = pd.concat([pd.concat([X_train.drop(2113), y_train_log.drop(2113)], axis=1), X_test])"
   ]
  },
  {
   "cell_type": "code",
   "execution_count": null,
   "id": "d9dfd797",
   "metadata": {
    "ExecuteTime": {
     "end_time": "2022-05-13T06:54:11.789212Z",
     "start_time": "2022-05-13T06:54:11.774484Z"
    },
    "scrolled": true
   },
   "outputs": [],
   "source": [
    "data.info()"
   ]
  },
  {
   "cell_type": "code",
   "execution_count": null,
   "id": "e8ba85de",
   "metadata": {
    "ExecuteTime": {
     "end_time": "2022-05-13T06:54:11.800150Z",
     "start_time": "2022-05-13T06:54:11.790146Z"
    }
   },
   "outputs": [],
   "source": [
    "data.head()"
   ]
  },
  {
   "cell_type": "markdown",
   "id": "6dcdc509",
   "metadata": {},
   "source": [
    "Проверим, насколько совпадают распределния для тренировочных и тестовых данных"
   ]
  },
  {
   "cell_type": "code",
   "execution_count": null,
   "id": "5d39bb6e",
   "metadata": {
    "ExecuteTime": {
     "end_time": "2022-05-13T06:54:23.504399Z",
     "start_time": "2022-05-13T06:54:11.802220Z"
    },
    "scrolled": true
   },
   "outputs": [],
   "source": [
    "for col in data.columns[:-2]:\n",
    "    sns.histplot(X_train[col], color='red')\n",
    "    sns.histplot(X_test[col], color='green')\n",
    "    plt.show()"
   ]
  },
  {
   "cell_type": "markdown",
   "id": "be4acda8",
   "metadata": {},
   "source": [
    "Распределения похожи"
   ]
  },
  {
   "cell_type": "markdown",
   "id": "2785c795",
   "metadata": {},
   "source": [
    "##### Признаки"
   ]
  },
  {
   "cell_type": "code",
   "execution_count": null,
   "id": "66191ba3",
   "metadata": {
    "ExecuteTime": {
     "end_time": "2022-05-13T06:54:23.515931Z",
     "start_time": "2022-05-13T06:54:23.505853Z"
    },
    "scrolled": true
   },
   "outputs": [],
   "source": [
    "X_train.info()"
   ]
  },
  {
   "cell_type": "code",
   "execution_count": null,
   "id": "122aaf70",
   "metadata": {
    "ExecuteTime": {
     "end_time": "2022-05-13T06:54:23.525998Z",
     "start_time": "2022-05-13T06:54:23.517139Z"
    },
    "scrolled": true
   },
   "outputs": [],
   "source": [
    "X_test.info()"
   ]
  },
  {
   "cell_type": "markdown",
   "id": "ea00a959",
   "metadata": {},
   "source": [
    "Пропусков в данных нет"
   ]
  },
  {
   "cell_type": "code",
   "execution_count": null,
   "id": "2a2e3396",
   "metadata": {
    "ExecuteTime": {
     "end_time": "2022-05-13T06:54:23.535805Z",
     "start_time": "2022-05-13T06:54:23.526928Z"
    }
   },
   "outputs": [],
   "source": [
    "X_train.head()"
   ]
  },
  {
   "cell_type": "code",
   "execution_count": null,
   "id": "a8e8e207",
   "metadata": {
    "ExecuteTime": {
     "end_time": "2022-05-13T06:54:23.614476Z",
     "start_time": "2022-05-13T06:54:23.536927Z"
    }
   },
   "outputs": [],
   "source": [
    "X_train.describe().drop('count').style.bar()"
   ]
  },
  {
   "cell_type": "code",
   "execution_count": null,
   "id": "d464dd66",
   "metadata": {
    "ExecuteTime": {
     "end_time": "2022-05-13T06:54:23.628840Z",
     "start_time": "2022-05-13T06:54:23.615885Z"
    },
    "scrolled": true
   },
   "outputs": [],
   "source": [
    "# так как мало значений для view, sqft_basement, yr_renovated, делаем их булевыми\n",
    "\n",
    "for col in ['view', 'sqft_basement', 'yr_renovated']:\n",
    "    data[col + '_bool'] = (data[col] > 0).astype(int)\n",
    "    data.drop(col, axis=1, inplace=True)"
   ]
  },
  {
   "cell_type": "code",
   "execution_count": null,
   "id": "20c550f7",
   "metadata": {
    "ExecuteTime": {
     "end_time": "2022-05-13T06:54:23.642564Z",
     "start_time": "2022-05-13T06:54:23.630052Z"
    },
    "scrolled": true
   },
   "outputs": [],
   "source": [
    "# переводим \"квадратные\" признаки в сторону квадрата (извлекаем корень) и логарифмируем\n",
    "\n",
    "for col in data.columns:\n",
    "    if col.startswith('sqft') and not col.endswith('bool'):\n",
    "        data[col[2:]] = np.log(np.sqrt(data[col]))\n",
    "        data.drop(col, axis=1, inplace=True)"
   ]
  },
  {
   "cell_type": "code",
   "execution_count": null,
   "id": "34aa2257",
   "metadata": {
    "ExecuteTime": {
     "end_time": "2022-05-13T06:54:23.780653Z",
     "start_time": "2022-05-13T06:54:23.644047Z"
    },
    "scrolled": true
   },
   "outputs": [],
   "source": [
    "# извлекаем дату продажи и переводим ее в дни, начиная с самого раннего дня продажи\n",
    "\n",
    "data.date = pd.to_datetime(data.date.str.split('T', expand=True)[0], format='%Y%m%d')\n",
    "\n",
    "min_data = data.date.min()\n",
    "data.date = (data.date - min_data).apply(lambda x: x.days)"
   ]
  },
  {
   "cell_type": "code",
   "execution_count": null,
   "id": "39d61131",
   "metadata": {
    "ExecuteTime": {
     "end_time": "2022-05-13T06:54:23.784383Z",
     "start_time": "2022-05-13T06:54:23.781797Z"
    },
    "scrolled": true
   },
   "outputs": [],
   "source": [
    "data.columns"
   ]
  },
  {
   "cell_type": "code",
   "execution_count": null,
   "id": "312f9d82",
   "metadata": {
    "ExecuteTime": {
     "end_time": "2022-05-13T06:54:23.788063Z",
     "start_time": "2022-05-13T06:54:23.785466Z"
    }
   },
   "outputs": [],
   "source": [
    "#(X_train.sqft_above + X_train.sqft_basement - X_train.sqft_living).describe()"
   ]
  },
  {
   "cell_type": "markdown",
   "id": "be9f4b5e",
   "metadata": {},
   "source": [
    "### Категориальная переменная zipcode"
   ]
  },
  {
   "cell_type": "markdown",
   "id": "9ead58df",
   "metadata": {},
   "source": [
    "Собираем общую информацию по каждому zipcode"
   ]
  },
  {
   "cell_type": "code",
   "execution_count": null,
   "id": "7e87aff3",
   "metadata": {
    "ExecuteTime": {
     "end_time": "2022-05-13T06:54:23.826924Z",
     "start_time": "2022-05-13T06:54:23.788905Z"
    }
   },
   "outputs": [],
   "source": [
    "from tqdm import tqdm\n",
    "\n",
    "from selenium import webdriver\n",
    "from selenium.webdriver.common.by import By\n",
    "import time"
   ]
  },
  {
   "cell_type": "code",
   "execution_count": null,
   "id": "54ffa29d",
   "metadata": {
    "ExecuteTime": {
     "end_time": "2022-05-13T06:56:38.600617Z",
     "start_time": "2022-05-13T06:54:23.828134Z"
    }
   },
   "outputs": [],
   "source": [
    "d_zipcodes_info = {}\n",
    "info_fields = ['Population', 'Population Density', 'Housing Units', 'Median Home Value', 'Land Area', 'Water Area',\n",
    "              'Occupied Housing Units', 'Median Household Income', 'Median Age',\n",
    "              ]\n",
    "\n",
    "SCROLL_PAUSE_TIME = 1\n",
    "driver = webdriver.Chrome()\n",
    "\n",
    "for zipcode in tqdm(data.zipcode.unique()):\n",
    "    url = f'https://www.unitedstateszipcodes.org/{zipcode}/'\n",
    "    driver.get(url)\n",
    "\n",
    "    time.sleep(SCROLL_PAUSE_TIME)\n",
    "    list_p_element = driver.find_elements(By.XPATH, \"//tr\")\n",
    "\n",
    "    d_zipcodes_info[zipcode] = {}\n",
    "    fulltxt = []\n",
    "    \n",
    "    for i_start, el in enumerate(list_p_element):\n",
    "        txt = el.text\n",
    "        if txt.startswith('Population'):\n",
    "            break\n",
    "\n",
    "    i = -1\n",
    "    for el in list_p_element:\n",
    "        i += 1\n",
    "        if i < i_start or i_start + 8 < i:\n",
    "            continue\n",
    "        txt = el.text\n",
    "        if txt:\n",
    "            fulltxt += [txt]\n",
    "\n",
    "    for txt, field in zip(fulltxt, info_fields):\n",
    "        value = float(txt.split(field)[1].replace(':', '').strip().split()[0].replace(',', '').replace('$', ''))\n",
    "        d_zipcodes_info[zipcode][field] = value\n",
    "        \n",
    "for field in info_fields:\n",
    "    colname = '_'.join(field.split())\n",
    "    data[colname] = data.zipcode.apply(lambda x: d_zipcodes_info[x][field])"
   ]
  },
  {
   "cell_type": "code",
   "execution_count": null,
   "id": "d392f66a",
   "metadata": {
    "ExecuteTime": {
     "end_time": "2022-05-13T08:13:19.804614Z",
     "start_time": "2022-05-13T08:13:19.800039Z"
    }
   },
   "outputs": [],
   "source": [
    "# write dict into file\n",
    "\n",
    "import json\n",
    "\n",
    "d_zipcodes_modified_keys = {str(key):val for key, val in d_zipcodes_info.items()}\n",
    "\n",
    "with open('d_zipcodes_info.json', 'w') as fd:\n",
    "    json.dump(d_zipcodes_modified_keys, fd)"
   ]
  },
  {
   "cell_type": "code",
   "execution_count": null,
   "id": "09e333e4",
   "metadata": {
    "ExecuteTime": {
     "end_time": "2022-05-13T08:13:19.804614Z",
     "start_time": "2022-05-13T08:13:19.800039Z"
    }
   },
   "outputs": [],
   "source": [
    "# load dict from file\n",
    "\n",
    "import json\n",
    "\n",
    "with open('d_zipcodes_info.json', 'к') as fd:\n",
    "    json.load(d_zipcodes_modified_keys, fd)\n",
    "    \n",
    "d_zipcodes_info = {int(key):val for key, val in d_zipcodes_info.items()}"
   ]
  },
  {
   "cell_type": "code",
   "execution_count": null,
   "id": "d713dbf3",
   "metadata": {
    "ExecuteTime": {
     "end_time": "2022-05-13T06:56:43.016049Z",
     "start_time": "2022-05-13T06:56:38.602147Z"
    },
    "scrolled": true
   },
   "outputs": [],
   "source": [
    "for col in data.columns:\n",
    "    sns.histplot(data[col], color='green')\n",
    "    plt.show()"
   ]
  },
  {
   "cell_type": "code",
   "execution_count": null,
   "id": "0b24cb80",
   "metadata": {
    "ExecuteTime": {
     "end_time": "2022-05-13T06:56:45.937086Z",
     "start_time": "2022-05-13T06:56:43.017597Z"
    }
   },
   "outputs": [],
   "source": [
    "for col in data.columns:\n",
    "    sns.scatterplot(data.query('dataset == \"train\"')[col], data.query('dataset == \"train\"')['price'], color='green')\n",
    "    plt.show()"
   ]
  },
  {
   "cell_type": "code",
   "execution_count": null,
   "id": "eeb66cf8",
   "metadata": {
    "ExecuteTime": {
     "end_time": "2022-05-13T06:56:45.941958Z",
     "start_time": "2022-05-13T06:56:45.938400Z"
    }
   },
   "outputs": [],
   "source": [
    "# немного преобразований переменных\n",
    "\n",
    "data['Population'] = np.sqrt(data['Population'])\n",
    "data['pers_houses_occupied'] = data.Occupied_Housing_Units / data.Housing_Units"
   ]
  },
  {
   "cell_type": "markdown",
   "id": "4d35c4d5",
   "metadata": {},
   "source": [
    "#### проверим есть ли одинаковые дома"
   ]
  },
  {
   "cell_type": "code",
   "execution_count": null,
   "id": "f2961cab",
   "metadata": {
    "ExecuteTime": {
     "end_time": "2022-05-13T06:56:46.269036Z",
     "start_time": "2022-05-13T06:56:45.942999Z"
    }
   },
   "outputs": [],
   "source": [
    "variables=['bedrooms', 'bathrooms', 'floors', 'waterfront', 'condition', 'grade', 'yr_built', 'zipcode', \n",
    "           'lat', 'long', 'view_bool', 'sqft_basement_bool', 'yr_renovated_bool', 'ft_living', 'ft_lot', 'ft_above'\n",
    "]\n",
    "\n",
    "data['combined'] = data[variables].apply(lambda row: '_'.join(row.values.astype(str)), axis=1)"
   ]
  },
  {
   "cell_type": "code",
   "execution_count": null,
   "id": "aec03806",
   "metadata": {
    "ExecuteTime": {
     "end_time": "2022-05-13T06:56:46.285333Z",
     "start_time": "2022-05-13T06:56:46.270080Z"
    }
   },
   "outputs": [],
   "source": [
    "vals, counts = np.unique(data['combined'], return_counts=True)"
   ]
  },
  {
   "cell_type": "code",
   "execution_count": null,
   "id": "05b98a52",
   "metadata": {
    "ExecuteTime": {
     "end_time": "2022-05-13T06:56:46.291257Z",
     "start_time": "2022-05-13T06:56:46.286926Z"
    }
   },
   "outputs": [],
   "source": [
    "counts.sort()"
   ]
  },
  {
   "cell_type": "code",
   "execution_count": null,
   "id": "3c5c13c4",
   "metadata": {
    "ExecuteTime": {
     "end_time": "2022-05-13T06:56:46.297934Z",
     "start_time": "2022-05-13T06:56:46.295064Z"
    }
   },
   "outputs": [],
   "source": [
    "len(counts[counts > 1])"
   ]
  },
  {
   "cell_type": "markdown",
   "id": "69cc40ee",
   "metadata": {},
   "source": [
    "Есть один и тот же дом несколько раз"
   ]
  },
  {
   "cell_type": "code",
   "execution_count": null,
   "id": "51e92cd0",
   "metadata": {
    "ExecuteTime": {
     "end_time": "2022-05-13T08:16:11.480930Z",
     "start_time": "2022-05-13T08:16:11.164926Z"
    }
   },
   "outputs": [],
   "source": [
    "data.to_csv('data_all.csv', index=False)"
   ]
  },
  {
   "cell_type": "markdown",
   "id": "8af80f1a",
   "metadata": {},
   "source": [
    "#### Делим данные на тест и трейн"
   ]
  },
  {
   "cell_type": "markdown",
   "id": "47650439",
   "metadata": {},
   "source": [
    "Переделать"
   ]
  },
  {
   "cell_type": "code",
   "execution_count": null,
   "id": "0c1f923f",
   "metadata": {
    "ExecuteTime": {
     "end_time": "2022-05-13T06:56:46.313761Z",
     "start_time": "2022-05-13T06:56:46.299139Z"
    }
   },
   "outputs": [],
   "source": [
    "X_train = data.query('~price.isna()').drop([\n",
    "    #'lat', 'long', 'zipcode',\n",
    "    'dataset', 'price', 'combined'], axis=1)\n",
    "X_test = data.query('price.isna()').drop([\n",
    "    #'lat', 'long', 'zipcode',\n",
    "    'dataset', 'price', 'combined'], axis=1)\n",
    "y_train = data.query('~price.isna()')[['price']]"
   ]
  },
  {
   "cell_type": "markdown",
   "id": "07c9ea01",
   "metadata": {},
   "source": [
    "#### Подготовка категориальных данных"
   ]
  },
  {
   "cell_type": "code",
   "execution_count": null,
   "id": "7b2f1260",
   "metadata": {
    "ExecuteTime": {
     "end_time": "2022-05-13T06:56:46.317565Z",
     "start_time": "2022-05-13T06:56:46.315117Z"
    }
   },
   "outputs": [],
   "source": [
    "cat_features = ['zipcode', \n",
    "                #'view_bool', 'sqft_basement_bool', 'waterfront', 'yr_renovated_bool'\n",
    "               ]"
   ]
  },
  {
   "cell_type": "code",
   "execution_count": null,
   "id": "38887630",
   "metadata": {
    "ExecuteTime": {
     "end_time": "2022-05-13T06:56:46.324281Z",
     "start_time": "2022-05-13T06:56:46.318861Z"
    },
    "scrolled": true
   },
   "outputs": [],
   "source": [
    "from sklearn import preprocessing\n",
    "\n",
    "for col in cat_features:\n",
    "    le = preprocessing.LabelEncoder()\n",
    "    le.fit(X_train[col])\n",
    "    X_train[col] = le.transform(X_train[col])\n",
    "    X_test[col] = le.transform(X_test[col])\n",
    "\n",
    "#le.inverse_transform([0, 0, 1, 2])"
   ]
  },
  {
   "cell_type": "markdown",
   "id": "3897948c",
   "metadata": {
    "id": "VaZmpxctAoX0"
   },
   "source": [
    "#### Удаляем коррелирующие признаки"
   ]
  },
  {
   "cell_type": "code",
   "execution_count": null,
   "id": "f76fd316",
   "metadata": {
    "ExecuteTime": {
     "end_time": "2022-05-13T06:56:46.341043Z",
     "start_time": "2022-05-13T06:56:46.325443Z"
    },
    "id": "jLCnPHxdAoX1"
   },
   "outputs": [],
   "source": [
    "correlated_features = pd.DataFrame(X_train.corr(method='pearson'\n",
    "                                         ).abs().unstack().reset_index().query('level_0 != level_1'\n",
    "                                                                              ).sort_values(0, ascending=False))"
   ]
  },
  {
   "cell_type": "code",
   "execution_count": null,
   "id": "f94df97e",
   "metadata": {
    "ExecuteTime": {
     "end_time": "2022-05-13T06:56:46.355453Z",
     "start_time": "2022-05-13T06:56:46.342246Z"
    },
    "scrolled": true
   },
   "outputs": [],
   "source": [
    "correlated_features['pairs'] = correlated_features.apply(lambda x: tuple(sorted([x.level_0, x.level_1])), axis=1)"
   ]
  },
  {
   "cell_type": "code",
   "execution_count": null,
   "id": "81592aa0",
   "metadata": {
    "ExecuteTime": {
     "end_time": "2022-05-13T06:56:46.361723Z",
     "start_time": "2022-05-13T06:56:46.356520Z"
    },
    "scrolled": true
   },
   "outputs": [],
   "source": [
    "correlated_features = correlated_features.drop_duplicates(subset='pairs').drop(['level_0', \n",
    "                                                          'level_1'], axis=1).rename(columns={0:'corr_value'})"
   ]
  },
  {
   "cell_type": "code",
   "execution_count": null,
   "id": "b476523e",
   "metadata": {
    "ExecuteTime": {
     "end_time": "2022-05-13T06:56:46.607889Z",
     "start_time": "2022-05-13T06:56:46.362682Z"
    }
   },
   "outputs": [],
   "source": [
    "correlated_features.corr_value.hist(bins=100)"
   ]
  },
  {
   "cell_type": "code",
   "execution_count": null,
   "id": "223f867f",
   "metadata": {
    "ExecuteTime": {
     "end_time": "2022-05-13T06:56:46.611358Z",
     "start_time": "2022-05-13T06:56:46.609319Z"
    }
   },
   "outputs": [],
   "source": [
    "from collections import Counter\n",
    "import itertools"
   ]
  },
  {
   "cell_type": "code",
   "execution_count": null,
   "id": "95ff2cf2",
   "metadata": {
    "ExecuteTime": {
     "end_time": "2022-05-13T06:56:46.623837Z",
     "start_time": "2022-05-13T06:56:46.612420Z"
    },
    "scrolled": true
   },
   "outputs": [],
   "source": [
    "# уберем из тех пар, у которых корреляция > corr те признаки, которые чаще других встречаются в парах \n",
    "# коррелирующих признаков\n",
    "\n",
    "corr = 0.8\n",
    "#corr = 0.7\n",
    "f_to_drop = []\n",
    "most_correlated_df = correlated_features.query('corr_value > @corr').copy()\n",
    "\n",
    "# пока есть пары в датасете с самыми коррелированными фичами\n",
    "while len(most_correlated_df.index):\n",
    "    # список всех оставшихся коррелированных фичей в датасете\n",
    "    most_corr = list(itertools.chain(*most_correlated_df.pairs))\n",
    "    # самая часто встречающаяся фича\n",
    "    f = np.unique(sorted(most_corr, key=lambda x: Counter(most_corr)[x]))[-1]\n",
    "    f_to_drop += [f]\n",
    "    most_correlated_df['f_in_pairs'] = most_correlated_df.pairs.apply(lambda x: f in x)\n",
    "    most_correlated_df = most_correlated_df.query('not f_in_pairs')"
   ]
  },
  {
   "cell_type": "code",
   "execution_count": null,
   "id": "76a9e6be",
   "metadata": {
    "ExecuteTime": {
     "end_time": "2022-05-13T06:56:46.633640Z",
     "start_time": "2022-05-13T06:56:46.624852Z"
    }
   },
   "outputs": [],
   "source": [
    "correlated_features.query('corr_value > @corr').copy()"
   ]
  },
  {
   "cell_type": "code",
   "execution_count": null,
   "id": "cc31b4da",
   "metadata": {
    "ExecuteTime": {
     "end_time": "2022-05-13T06:56:46.637558Z",
     "start_time": "2022-05-13T06:56:46.635086Z"
    },
    "scrolled": true
   },
   "outputs": [],
   "source": [
    "len(f_to_drop)"
   ]
  },
  {
   "cell_type": "code",
   "execution_count": null,
   "id": "a8be91d6",
   "metadata": {
    "ExecuteTime": {
     "end_time": "2022-05-13T06:56:46.641766Z",
     "start_time": "2022-05-13T06:56:46.638410Z"
    }
   },
   "outputs": [],
   "source": [
    "f_to_drop"
   ]
  },
  {
   "cell_type": "code",
   "execution_count": null,
   "id": "5596d192",
   "metadata": {
    "ExecuteTime": {
     "end_time": "2022-05-13T06:56:46.650149Z",
     "start_time": "2022-05-13T06:56:46.642718Z"
    }
   },
   "outputs": [],
   "source": [
    "X_train.drop(f_to_drop, axis=1, inplace=True)\n",
    "X_test.drop(f_to_drop, axis=1, inplace=True)"
   ]
  },
  {
   "cell_type": "markdown",
   "id": "7f149cbd",
   "metadata": {},
   "source": [
    "#### Делим датасет на трейн и валидацию"
   ]
  },
  {
   "cell_type": "code",
   "execution_count": null,
   "id": "5103e088",
   "metadata": {
    "ExecuteTime": {
     "end_time": "2022-05-13T06:56:46.656018Z",
     "start_time": "2022-05-13T06:56:46.651334Z"
    }
   },
   "outputs": [],
   "source": [
    "X_train_train, X_val, y_train_train, y_val = train_test_split(X_train, y_train, random_state=42)"
   ]
  },
  {
   "cell_type": "markdown",
   "id": "d3ca087b",
   "metadata": {},
   "source": [
    "#### Шкалируем переменные с помощью Standard Scaler"
   ]
  },
  {
   "cell_type": "code",
   "execution_count": null,
   "id": "886ba8e2",
   "metadata": {
    "ExecuteTime": {
     "end_time": "2022-05-13T06:56:46.676733Z",
     "start_time": "2022-05-13T06:56:46.656972Z"
    },
    "scrolled": true
   },
   "outputs": [],
   "source": [
    "scaler = StandardScaler()\n",
    "scaler.fit(X_train)\n",
    "\n",
    "X_train_train_scaled = pd.DataFrame(scaler.transform(X_train_train), columns=X_train_train.columns)\n",
    "X_val_scaled = pd.DataFrame(scaler.transform(X_val), columns=X_val.columns)\n",
    "X_train_scaled = pd.DataFrame(scaler.transform(X_train), columns=X_train.columns)\n",
    "X_test_scaled = pd.DataFrame(scaler.transform(X_test), columns=X_test.columns)"
   ]
  },
  {
   "cell_type": "code",
   "execution_count": null,
   "id": "d6a7789a",
   "metadata": {
    "ExecuteTime": {
     "end_time": "2022-05-13T06:56:46.732787Z",
     "start_time": "2022-05-13T06:56:46.677753Z"
    }
   },
   "outputs": [],
   "source": [
    "X_train_scaled.describe()"
   ]
  },
  {
   "cell_type": "markdown",
   "id": "7ab0b251",
   "metadata": {},
   "source": [
    "#### Поиск лучших параметров"
   ]
  },
  {
   "cell_type": "code",
   "execution_count": null,
   "id": "8a4c68cb",
   "metadata": {
    "ExecuteTime": {
     "end_time": "2022-05-13T07:00:04.267945Z",
     "start_time": "2022-05-13T06:56:46.733993Z"
    },
    "scrolled": true
   },
   "outputs": [],
   "source": [
    "# поиск лучших параметров для регрессии\n",
    "\n",
    "grid_search_lasso = GridSearchCV(Lasso(), {'max_iter': range(10, 150, 10), 'alpha': np.logspace(-9, -5), 'random_state':[42]}, scoring='r2')\n",
    "grid_search_lasso.fit(X_train_scaled, y_train)\n",
    "grid_search_lasso.best_params_"
   ]
  },
  {
   "cell_type": "code",
   "execution_count": null,
   "id": "4a812b83",
   "metadata": {
    "ExecuteTime": {
     "end_time": "2022-05-13T07:07:32.654461Z",
     "start_time": "2022-05-13T07:00:04.269452Z"
    }
   },
   "outputs": [],
   "source": [
    "# поиск лучших параметров для knn\n",
    "\n",
    "grid_search_knn = GridSearchCV(KNeighborsRegressor(), \n",
    "                           {'metric': ['cosine', 'euclidean', 'manhattan', 'chebyshev', \n",
    "                                       'hamming', 'canberra', 'braycurtis'], \n",
    "                            'weights': ['distance'], \n",
    "                            'n_neighbors': range(3, 8)}, scoring='r2')\n",
    "grid_search_knn.fit(X_train_scaled, y_train)\n",
    "grid_search_knn.best_params_"
   ]
  },
  {
   "cell_type": "code",
   "execution_count": null,
   "id": "9f53adaa",
   "metadata": {
    "ExecuteTime": {
     "end_time": "2022-05-13T07:07:32.670135Z",
     "start_time": "2022-05-13T07:07:32.660726Z"
    }
   },
   "outputs": [],
   "source": [
    "from sklearn.model_selection import cross_val_score\n",
    "from sklearn.model_selection import RepeatedKFold\n",
    " \n",
    "# get a stacking ensemble of models\n",
    "def get_stacking():\n",
    "    # define the base models\n",
    "    level0 = list()\n",
    "    #level0.append(('knn', KNeighborsRegressor(weights='distance', metric='braycurtis', n_neighbors=7)))\n",
    "    level0.append(('knn', KNeighborsRegressor(**grid_search_knn.best_params_)))\n",
    "    #level0.append(('lr', LinearRegression()))\n",
    "    #level0.append(('lasso', Lasso(alpha=0.001, random_state=42)))\n",
    "    level0.append(('lasso', Lasso(**grid_search_lasso.best_params_)))\n",
    "    #level0.append(('ridge', Ridge()))\n",
    "    # define meta learner model\n",
    "    level1 = LinearRegression()\n",
    "    # define the stacking ensemble\n",
    "    model = StackingRegressor(estimators=level0, final_estimator=level1, cv=5)\n",
    "    return model\n",
    " \n",
    "# # get a list of models to evaluate\n",
    "# def get_models():\n",
    "#     models = dict()\n",
    "#     models['knn'] = KNeighborsRegressor(**grid_search_knn.best_params_)\n",
    "#     #models['lr'] = LinearRegression()\n",
    "#     models['lasso'] = Lasso(**grid_search_lasso.best_params_)\n",
    "#     #models['ridge'] = Ridge()\n",
    "#     models['stacking'] = get_stacking()\n",
    "#     return models\n",
    " \n",
    "# # evaluate a given model using cross-validation\n",
    "# def evaluate_model(model, X, y):\n",
    "#     cv = RepeatedKFold(n_splits=10, n_repeats=3, random_state=42)\n",
    "#     scores = cross_val_score(model, X, y, scoring='r2', cv=cv, n_jobs=-1, error_score='raise')\n",
    "#     return scores\n",
    "\n",
    "# get the models to evaluate\n",
    "# models = get_models()\n",
    "# # evaluate the models and store results\n",
    "# results, names = list(), list()\n",
    "# for name, model in models.items():\n",
    "#     scores = evaluate_model(model, X_train_scaled, y_train)\n",
    "#     results.append(scores)\n",
    "#     names.append(name)\n",
    "#     print('>%s %.3f (%.3f)' % (name, np.mean(scores), np.std(scores)))\n",
    "# # plot model performance for comparison\n",
    "# plt.boxplot(results, labels=names, showmeans=True)\n",
    "# plt.show()"
   ]
  },
  {
   "cell_type": "code",
   "execution_count": null,
   "id": "6fa5e873",
   "metadata": {
    "ExecuteTime": {
     "end_time": "2022-05-13T07:07:57.760820Z",
     "start_time": "2022-05-13T07:07:32.671788Z"
    },
    "scrolled": true
   },
   "outputs": [],
   "source": [
    "model = get_stacking()\n",
    "# fit the model on all available data\n",
    "model.fit(X_train_scaled, y_train)\n",
    "# make a prediction for one example\n",
    "y_pred = model.predict(X_test_scaled)"
   ]
  },
  {
   "cell_type": "code",
   "execution_count": null,
   "id": "a8b1e22f",
   "metadata": {
    "ExecuteTime": {
     "end_time": "2022-05-13T07:07:57.780901Z",
     "start_time": "2022-05-13T07:07:57.762448Z"
    }
   },
   "outputs": [],
   "source": [
    "submission = pd.DataFrame(np.exp(y_pred), columns=['price']).reset_index()"
   ]
  },
  {
   "cell_type": "code",
   "execution_count": null,
   "id": "8ae21f54",
   "metadata": {
    "ExecuteTime": {
     "end_time": "2022-05-13T07:07:57.785196Z",
     "start_time": "2022-05-13T07:07:57.782761Z"
    }
   },
   "outputs": [],
   "source": [
    "submission.columns = ['Id', 'price']"
   ]
  },
  {
   "cell_type": "code",
   "execution_count": null,
   "id": "7a6a7e05",
   "metadata": {},
   "outputs": [],
   "source": [
    "submission.set_index('Id').to_csv(f'solution-{N}-Uliana_Bykova.csv')"
   ]
  },
  {
   "cell_type": "code",
   "execution_count": null,
   "id": "713cc3ee",
   "metadata": {},
   "outputs": [],
   "source": [
    "# 0.858 - 0.857 - 0.879"
   ]
  }
 ],
 "metadata": {
  "hide_input": false,
  "kernelspec": {
   "display_name": "Python 3 (ipykernel)",
   "language": "python",
   "name": "python3"
  },
  "language_info": {
   "codemirror_mode": {
    "name": "ipython",
    "version": 3
   },
   "file_extension": ".py",
   "mimetype": "text/x-python",
   "name": "python",
   "nbconvert_exporter": "python",
   "pygments_lexer": "ipython3",
   "version": "3.10.4"
  },
  "toc": {
   "base_numbering": 1,
   "nav_menu": {},
   "number_sections": true,
   "sideBar": true,
   "skip_h1_title": false,
   "title_cell": "Table of Contents",
   "title_sidebar": "Contents",
   "toc_cell": false,
   "toc_position": {},
   "toc_section_display": true,
   "toc_window_display": false
  },
  "varInspector": {
   "cols": {
    "lenName": 16,
    "lenType": 16,
    "lenVar": 40
   },
   "kernels_config": {
    "python": {
     "delete_cmd_postfix": "",
     "delete_cmd_prefix": "del ",
     "library": "var_list.py",
     "varRefreshCmd": "print(var_dic_list())"
    },
    "r": {
     "delete_cmd_postfix": ") ",
     "delete_cmd_prefix": "rm(",
     "library": "var_list.r",
     "varRefreshCmd": "cat(var_dic_list()) "
    }
   },
   "types_to_exclude": [
    "module",
    "function",
    "builtin_function_or_method",
    "instance",
    "_Feature"
   ],
   "window_display": false
  }
 },
 "nbformat": 4,
 "nbformat_minor": 5
}
